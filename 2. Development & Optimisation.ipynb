{
 "cells": [
  {
   "cell_type": "code",
   "execution_count": null,
   "metadata": {
    "collapsed": true
   },
   "outputs": [],
   "source": [
    "tips = raw_data['tip_amount'].argsort()\n",
    "min_tips = list(tips[:5])\n",
    "max_tips = list(tips[-5:])\n",
    "random_samples = random.sample(range(0, len(raw_data)), 5)\n",
    "\n",
    "data_samples = max_tips + min_tips + random_samples\n",
    "raw_data.iloc[data_samples,]"
   ]
  },
  {
   "cell_type": "code",
   "execution_count": null,
   "metadata": {
    "collapsed": true
   },
   "outputs": [],
   "source": [
    "outliers = [index for index, tip in enumerate(raw_data['tip_amount']) if (tip >= 500)]\n",
    "tip_outliers = [y[outlier] for outlier in outliers]\n",
    "fare_amount = [x_1[outlier] for outlier in outliers]\n",
    "x = [i for i in range(0,len(outliers))]"
   ]
  },
  {
   "cell_type": "code",
   "execution_count": null,
   "metadata": {
    "collapsed": true
   },
   "outputs": [],
   "source": [
    "plt.scatter(fare_amount,tip_outliers)\n",
    "plt.xlabel('Outlier', fontsize=18)\n",
    "plt.ylabel('Tip amount', fontsize=18)\n",
    "plt.tick_params(labelsize=12)\n",
    "plt.show()"
   ]
  },
  {
   "cell_type": "code",
   "execution_count": null,
   "metadata": {
    "collapsed": true
   },
   "outputs": [],
   "source": [
    "#from mpl_toolkits.basemap import Basemap\n",
    "\n",
    "import mpl_toolkits\n",
    "\n",
    "\n",
    "#fig = plt.figure()"
   ]
  },
  {
   "cell_type": "code",
   "execution_count": null,
   "metadata": {
    "collapsed": true
   },
   "outputs": [],
   "source": [
    "themap = Basemap(projection='gall',\n",
    "              llcrnrlon = -754.166687,              # lower-left corner longitude\n",
    "              llcrnrlat = -16.177874,               # lower-left corner latitude\n",
    "              urcrnrlon = 112.280441,               # upper-right corner longitude\n",
    "              urcrnrlat = 483.450012,               # upper-right corner latitude\n",
    "              resolution = 'l',\n",
    "              area_thresh = 100000.0,\n",
    "              )\n",
    "\n",
    "themap.drawcoastlines()\n",
    "themap.drawcountries()\n",
    "themap.fillcontinents(color = 'gainsboro')\n",
    "themap.drawmapboundary(fill_color='steelblue')"
   ]
  },
  {
   "cell_type": "code",
   "execution_count": null,
   "metadata": {
    "collapsed": true
   },
   "outputs": [],
   "source": [
    "dropoff_latitude, dropoff_longitude = themap(payment_data['dropoff_latitude'] , payment_data['dropoff_longitude'])\n",
    "themap.plot(x, y, \n",
    "            'o',                    # marker shape\n",
    "            color='Indigo',         # marker colour\n",
    "            markersize=4            # marker size\n",
    "            )\n",
    "\n",
    "plt.show()"
   ]
  }
 ],
 "metadata": {
  "kernelspec": {
   "display_name": "Python 2",
   "language": "python",
   "name": "python2"
  },
  "language_info": {
   "codemirror_mode": {
    "name": "ipython",
    "version": 2
   },
   "file_extension": ".py",
   "mimetype": "text/x-python",
   "name": "python",
   "nbconvert_exporter": "python",
   "pygments_lexer": "ipython2",
   "version": "2.7.9"
  }
 },
 "nbformat": 4,
 "nbformat_minor": 0
}
