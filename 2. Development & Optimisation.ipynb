{
 "cells": [
  {
   "cell_type": "code",
   "execution_count": null,
   "metadata": {
    "collapsed": true
   },
   "outputs": [],
   "source": [
    "tips = raw_data['tip_amount'].argsort()\n",
    "min_tips = list(tips[:5])\n",
    "max_tips = list(tips[-5:])\n",
    "random_samples = random.sample(range(0, len(raw_data)), 5)\n",
    "\n",
    "data_samples = max_tips + min_tips + random_samples\n",
    "raw_data.iloc[data_samples,]"
   ]
  },
  {
   "cell_type": "code",
   "execution_count": null,
   "metadata": {
    "collapsed": true
   },
   "outputs": [],
   "source": [
    "outliers = [index for index, tip in enumerate(raw_data['tip_amount']) if (tip >= 500)]\n",
    "tip_outliers = [y[outlier] for outlier in outliers]\n",
    "fare_amount = [x_1[outlier] for outlier in outliers]\n",
    "x = [i for i in range(0,len(outliers))]"
   ]
  },
  {
   "cell_type": "code",
   "execution_count": null,
   "metadata": {
    "collapsed": true
   },
   "outputs": [],
   "source": [
    "plt.scatter(fare_amount,tip_outliers)\n",
    "plt.xlabel('Outlier', fontsize=18)\n",
    "plt.ylabel('Tip amount', fontsize=18)\n",
    "plt.tick_params(labelsize=12)\n",
    "plt.show()"
   ]
  }
 ],
 "metadata": {
  "kernelspec": {
   "display_name": "Python 2",
   "language": "python",
   "name": "python2"
  },
  "language_info": {
   "codemirror_mode": {
    "name": "ipython",
    "version": 2
   },
   "file_extension": ".py",
   "mimetype": "text/x-python",
   "name": "python",
   "nbconvert_exporter": "python",
   "pygments_lexer": "ipython2",
   "version": "2.7.9"
  }
 },
 "nbformat": 4,
 "nbformat_minor": 0
}
