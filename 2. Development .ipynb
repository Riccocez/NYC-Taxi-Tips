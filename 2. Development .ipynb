{
 "cells": [
  {
   "cell_type": "markdown",
   "metadata": {},
   "source": [
    "# 2. Development \n",
    "\n",
    "\n",
    "# 2.1 Feature Selection\n",
    "\n",
    "In this part of the work, we will be working on the selection of the relevant features for the training of the random forests classifier."
   ]
  },
  {
   "cell_type": "code",
   "execution_count": 1,
   "metadata": {
    "collapsed": true
   },
   "outputs": [],
   "source": [
    "%matplotlib inline\n",
    "%config InlineBackend.figure_format='retina'"
   ]
  },
  {
   "cell_type": "code",
   "execution_count": 2,
   "metadata": {
    "collapsed": false
   },
   "outputs": [],
   "source": [
    "import pandas as pd\n",
    "\n",
    "import numpy as np\n",
    "\n",
    "import matplotlib.pyplot as plt\n",
    "\n",
    "import random\n",
    "\n",
    "from petl import fromcsv, look, fieldnames, values, head, tail\n",
    "\n",
    "import seaborn as sns\n",
    "\n",
    "from mpl_toolkits.basemap import Basemap\n",
    "\n",
    "import os\n",
    "\n",
    "from datetime import datetime\n",
    "\n",
    "import datetime\n",
    "\n",
    "from dateutil.relativedelta import relativedelta\n",
    "\n",
    "import math\n",
    "\n",
    "#from pygeocoder import Geocoder\n",
    "\n",
    "import time\n",
    "\n",
    "from geopy.geocoders import Nominatim\n",
    "\n",
    "import json\n"
   ]
  },
  {
   "cell_type": "code",
   "execution_count": 3,
   "metadata": {
    "collapsed": false
   },
   "outputs": [
    {
     "name": "stdout",
     "output_type": "stream",
     "text": [
      "Number of trips registered:  7278117\n"
     ]
    }
   ],
   "source": [
    "dataset = pd.read_csv('cleaned_data_yellow_tripdata_2015-06.csv', skipinitialspace=True)\n",
    "print \"Number of trips registered: \", len(dataset)"
   ]
  },
  {
   "cell_type": "code",
   "execution_count": 4,
   "metadata": {
    "collapsed": false
   },
   "outputs": [],
   "source": [
    "new_dataset = dataset.iloc[np.random.permutation(len(dataset))]"
   ]
  },
  {
   "cell_type": "code",
   "execution_count": 5,
   "metadata": {
    "collapsed": false
   },
   "outputs": [],
   "source": [
    "work_data = new_dataset\n",
    "pick_dt ,drop_dt = pd.DatetimeIndex(work_data['tpep_pickup_datetime']), pd.DatetimeIndex(work_data['tpep_dropoff_datetime'])"
   ]
  },
  {
   "cell_type": "markdown",
   "metadata": {},
   "source": [
    "# 2.1.1 Trip time Feature\n",
    "\n",
    "From the original date/time information included in the dataset, we obtain the duration of the trip in minutes. We consider this is an important variable to be included as a feature for training and predicting tip amounts."
   ]
  },
  {
   "cell_type": "code",
   "execution_count": 8,
   "metadata": {
    "collapsed": false
   },
   "outputs": [],
   "source": [
    "FMT = '%Y-%m-%d %H:%M:%S'\n",
    "str_drop = [datetime.datetime.strptime(str(drop_trip_time),FMT) for drop_trip_time in drop_dt] \n",
    "str_pick = [datetime.datetime.strptime(str(pick_trip_time),FMT) for pick_trip_time in pick_dt]\n",
    "#work_data.trip_time.values[0] way to obtain values of time"
   ]
  },
  {
   "cell_type": "code",
   "execution_count": 31,
   "metadata": {
    "collapsed": false
   },
   "outputs": [
    {
     "name": "stderr",
     "output_type": "stream",
     "text": [
      "/Library/Frameworks/Python.framework/Versions/2.7/lib/python2.7/site-packages/ipykernel/__main__.py:1: SettingWithCopyWarning: \n",
      "A value is trying to be set on a copy of a slice from a DataFrame.\n",
      "Try using .loc[row_indexer,col_indexer] = value instead\n",
      "\n",
      "See the caveats in the documentation: http://pandas.pydata.org/pandas-docs/stable/indexing.html#indexing-view-versus-copy\n",
      "  if __name__ == '__main__':\n"
     ]
    }
   ],
   "source": [
    "work_data['trip_time'] = pd.DataFrame(relativedelta(str_drop[i], str_pick[i]) for i in range(0,len(str_pick)))"
   ]
  },
  {
   "cell_type": "code",
   "execution_count": 33,
   "metadata": {
    "collapsed": false
   },
   "outputs": [
    {
     "name": "stderr",
     "output_type": "stream",
     "text": [
      "/Library/Frameworks/Python.framework/Versions/2.7/lib/python2.7/site-packages/ipykernel/__main__.py:1: SettingWithCopyWarning: \n",
      "A value is trying to be set on a copy of a slice from a DataFrame.\n",
      "Try using .loc[row_indexer,col_indexer] = value instead\n",
      "\n",
      "See the caveats in the documentation: http://pandas.pydata.org/pandas-docs/stable/indexing.html#indexing-view-versus-copy\n",
      "  if __name__ == '__main__':\n"
     ]
    }
   ],
   "source": [
    "work_data ['trip_time'] = pd.DataFrame(work_data.trip_time.values[i].minutes + work_data.trip_time.values[i].seconds / 60. for i in range(0,len(work_data)))"
   ]
  },
  {
   "cell_type": "code",
   "execution_count": 34,
   "metadata": {
    "collapsed": false
   },
   "outputs": [
    {
     "data": {
      "text/html": [
       "<div>\n",
       "<table border=\"1\" class=\"dataframe\">\n",
       "  <thead>\n",
       "    <tr style=\"text-align: right;\">\n",
       "      <th></th>\n",
       "      <th>tpep_pickup_datetime</th>\n",
       "      <th>tpep_dropoff_datetime</th>\n",
       "      <th>passenger_count</th>\n",
       "      <th>trip_distance</th>\n",
       "      <th>pickup_longitude</th>\n",
       "      <th>pickup_latitude</th>\n",
       "      <th>RateCodeID</th>\n",
       "      <th>dropoff_longitude</th>\n",
       "      <th>dropoff_latitude</th>\n",
       "      <th>payment_type</th>\n",
       "      <th>fare_amount</th>\n",
       "      <th>extra</th>\n",
       "      <th>mta_tax</th>\n",
       "      <th>tip_amount</th>\n",
       "      <th>tolls_amount</th>\n",
       "      <th>improvement_surcharge</th>\n",
       "      <th>total_amount</th>\n",
       "      <th>trip_time</th>\n",
       "    </tr>\n",
       "  </thead>\n",
       "  <tbody>\n",
       "    <tr>\n",
       "      <th>4177713</th>\n",
       "      <td>2015-06-20 20:48:28</td>\n",
       "      <td>2015-06-20 20:54:09</td>\n",
       "      <td>1</td>\n",
       "      <td>1.40</td>\n",
       "      <td>-73.971565</td>\n",
       "      <td>40.757366</td>\n",
       "      <td>1</td>\n",
       "      <td>-73.976173</td>\n",
       "      <td>40.741543</td>\n",
       "      <td>1</td>\n",
       "      <td>6.5</td>\n",
       "      <td>0.5</td>\n",
       "      <td>0.5</td>\n",
       "      <td>2.00</td>\n",
       "      <td>0.0</td>\n",
       "      <td>0.3</td>\n",
       "      <td>9.80</td>\n",
       "      <td>23.616667</td>\n",
       "    </tr>\n",
       "    <tr>\n",
       "      <th>6055815</th>\n",
       "      <td>2015-06-15 18:05:17</td>\n",
       "      <td>2015-06-15 18:13:53</td>\n",
       "      <td>1</td>\n",
       "      <td>1.68</td>\n",
       "      <td>-73.961632</td>\n",
       "      <td>40.774223</td>\n",
       "      <td>1</td>\n",
       "      <td>-73.978653</td>\n",
       "      <td>40.786758</td>\n",
       "      <td>1</td>\n",
       "      <td>8.0</td>\n",
       "      <td>1.0</td>\n",
       "      <td>0.5</td>\n",
       "      <td>1.96</td>\n",
       "      <td>0.0</td>\n",
       "      <td>0.3</td>\n",
       "      <td>11.76</td>\n",
       "      <td>25.666667</td>\n",
       "    </tr>\n",
       "    <tr>\n",
       "      <th>1618632</th>\n",
       "      <td>2015-06-10 00:17:19</td>\n",
       "      <td>2015-06-10 00:42:18</td>\n",
       "      <td>2</td>\n",
       "      <td>6.20</td>\n",
       "      <td>-74.005424</td>\n",
       "      <td>40.707623</td>\n",
       "      <td>1</td>\n",
       "      <td>-73.911972</td>\n",
       "      <td>40.684238</td>\n",
       "      <td>1</td>\n",
       "      <td>22.0</td>\n",
       "      <td>0.5</td>\n",
       "      <td>0.5</td>\n",
       "      <td>2.50</td>\n",
       "      <td>0.0</td>\n",
       "      <td>0.3</td>\n",
       "      <td>25.80</td>\n",
       "      <td>12.633333</td>\n",
       "    </tr>\n",
       "    <tr>\n",
       "      <th>3972625</th>\n",
       "      <td>2015-06-13 03:09:26</td>\n",
       "      <td>2015-06-14 03:05:11</td>\n",
       "      <td>6</td>\n",
       "      <td>7.46</td>\n",
       "      <td>-73.987106</td>\n",
       "      <td>40.745209</td>\n",
       "      <td>1</td>\n",
       "      <td>-73.914024</td>\n",
       "      <td>40.687103</td>\n",
       "      <td>1</td>\n",
       "      <td>26.0</td>\n",
       "      <td>0.5</td>\n",
       "      <td>0.5</td>\n",
       "      <td>2.73</td>\n",
       "      <td>0.0</td>\n",
       "      <td>0.3</td>\n",
       "      <td>30.03</td>\n",
       "      <td>6.716667</td>\n",
       "    </tr>\n",
       "    <tr>\n",
       "      <th>6388429</th>\n",
       "      <td>2015-06-27 16:53:57</td>\n",
       "      <td>2015-06-27 17:00:29</td>\n",
       "      <td>3</td>\n",
       "      <td>0.58</td>\n",
       "      <td>-73.977692</td>\n",
       "      <td>40.742378</td>\n",
       "      <td>1</td>\n",
       "      <td>-73.986870</td>\n",
       "      <td>40.745201</td>\n",
       "      <td>1</td>\n",
       "      <td>6.0</td>\n",
       "      <td>0.0</td>\n",
       "      <td>0.5</td>\n",
       "      <td>1.36</td>\n",
       "      <td>0.0</td>\n",
       "      <td>0.3</td>\n",
       "      <td>8.16</td>\n",
       "      <td>18.066667</td>\n",
       "    </tr>\n",
       "  </tbody>\n",
       "</table>\n",
       "</div>"
      ],
      "text/plain": [
       "        tpep_pickup_datetime tpep_dropoff_datetime  passenger_count  \\\n",
       "4177713  2015-06-20 20:48:28   2015-06-20 20:54:09                1   \n",
       "6055815  2015-06-15 18:05:17   2015-06-15 18:13:53                1   \n",
       "1618632  2015-06-10 00:17:19   2015-06-10 00:42:18                2   \n",
       "3972625  2015-06-13 03:09:26   2015-06-14 03:05:11                6   \n",
       "6388429  2015-06-27 16:53:57   2015-06-27 17:00:29                3   \n",
       "\n",
       "         trip_distance  pickup_longitude  pickup_latitude  RateCodeID  \\\n",
       "4177713           1.40        -73.971565        40.757366           1   \n",
       "6055815           1.68        -73.961632        40.774223           1   \n",
       "1618632           6.20        -74.005424        40.707623           1   \n",
       "3972625           7.46        -73.987106        40.745209           1   \n",
       "6388429           0.58        -73.977692        40.742378           1   \n",
       "\n",
       "         dropoff_longitude  dropoff_latitude  payment_type  fare_amount  \\\n",
       "4177713         -73.976173         40.741543             1          6.5   \n",
       "6055815         -73.978653         40.786758             1          8.0   \n",
       "1618632         -73.911972         40.684238             1         22.0   \n",
       "3972625         -73.914024         40.687103             1         26.0   \n",
       "6388429         -73.986870         40.745201             1          6.0   \n",
       "\n",
       "         extra  mta_tax  tip_amount  tolls_amount  improvement_surcharge  \\\n",
       "4177713    0.5      0.5        2.00           0.0                    0.3   \n",
       "6055815    1.0      0.5        1.96           0.0                    0.3   \n",
       "1618632    0.5      0.5        2.50           0.0                    0.3   \n",
       "3972625    0.5      0.5        2.73           0.0                    0.3   \n",
       "6388429    0.0      0.5        1.36           0.0                    0.3   \n",
       "\n",
       "         total_amount  trip_time  \n",
       "4177713          9.80  23.616667  \n",
       "6055815         11.76  25.666667  \n",
       "1618632         25.80  12.633333  \n",
       "3972625         30.03   6.716667  \n",
       "6388429          8.16  18.066667  "
      ]
     },
     "execution_count": 34,
     "metadata": {},
     "output_type": "execute_result"
    }
   ],
   "source": [
    "work_data = work_data.drop(['Unnamed: 0','VendorID','store_and_fwd_flag'], axis=1)\n",
    "work_data.head()"
   ]
  },
  {
   "cell_type": "markdown",
   "metadata": {},
   "source": [
    " # 2.1.2 Day of Week and Hour Features\n",
    " \n",
    " We follow the same procedure and get valuable information, the day of the week and the hour each of the trips was taken."
   ]
  },
  {
   "cell_type": "code",
   "execution_count": 35,
   "metadata": {
    "collapsed": false
   },
   "outputs": [],
   "source": [
    "work_data['day_ofweek'] = pick_dt.dayofweek\n",
    "work_data['hour'] = pick_dt.hour"
   ]
  },
  {
   "cell_type": "markdown",
   "metadata": {},
   "source": [
    "# 2.1.3 Tip Percentage vs Total Amount Feature\n",
    "\n",
    "To have a better understanding of how can be corraleted the tip amount and the total amount, we get the proportion percentage of a tip corresponding to the total amount."
   ]
  },
  {
   "cell_type": "code",
   "execution_count": 36,
   "metadata": {
    "collapsed": false
   },
   "outputs": [],
   "source": [
    "#work_data['dif_tip'] = work_data.total_amount[:] *0.2 - work_data.tip_amount[:]\n",
    "work_data['dif_tip_total'] = work_data.tip_amount.values[:] / work_data.total_amount.values[:]\n",
    "work_data['dif_tip_fare'] = work_data.tip_amount.values[:] / work_data.fare_amount.values[:]"
   ]
  },
  {
   "cell_type": "markdown",
   "metadata": {},
   "source": [
    "Here we tried to get some more specific information from the pick up and drop off locations. However, it was not possible because of some restrictions on the requests made to Google Maps API. Please avoid this few lines.\n",
    "\n",
    "However, if you have a premium account you can obtain fantastic information like streets, neighbourhoods, and much more!"
   ]
  },
  {
   "cell_type": "code",
   "execution_count": 9,
   "metadata": {
    "collapsed": false
   },
   "outputs": [],
   "source": [
    "\"\"\"\n",
    "pickup__temp_location = [] #pd.DataFrame(index= work_data)\n",
    "#pickup__temp_location = pickup__temp_location.fillna('', inplace=True)\n",
    "dropoff__temp_location = [] #pd.DataFrame(index= work_data)\n",
    "#dropoff__temp_location = dropoff__temp_location.fillna('', inplace=True)\n",
    "\n",
    "pickup__temp_location = [ str(str(work_data.pickup_latitude.values[i]) + ',' + str(work_data.pickup_longitude.values[i])) for i in range(0,len(work_data))]\n",
    "dropoff__temp_location =[ str(str(work_data.dropoff_latitude.values[i]) + ',' + str(work_data.dropoff_longitude.values[i])) for i in range(0,len(work_data))]\n",
    "\n",
    "\"\"\""
   ]
  },
  {
   "cell_type": "code",
   "execution_count": 10,
   "metadata": {
    "collapsed": false
   },
   "outputs": [],
   "source": [
    "\"\"\"\n",
    "pick_locations = []\n",
    "drop_locations = []\n",
    "geolocator = Nominatim()\n",
    "\"\"\""
   ]
  },
  {
   "cell_type": "code",
   "execution_count": 164,
   "metadata": {
    "collapsed": false
   },
   "outputs": [
    {
     "name": "stdout",
     "output_type": "stream",
     "text": [
      "193\n",
      "194\n",
      "195\n",
      "196\n",
      "197\n",
      "198\n",
      "199\n",
      "200\n",
      "201\n",
      "202\n",
      "203\n",
      "204\n",
      "205\n",
      "206\n",
      "207\n",
      "208\n",
      "209\n",
      "210\n",
      "211\n",
      "212\n",
      "213\n",
      "214\n",
      "215\n",
      "216\n",
      "217\n",
      "218\n",
      "219\n",
      "220\n",
      "221\n",
      "222\n",
      "223\n",
      "224\n",
      "225\n",
      "226\n",
      "227\n",
      "228\n",
      "229\n",
      "230\n",
      "231\n",
      "232\n",
      "233\n",
      "234\n",
      "235\n",
      "236\n",
      "237\n",
      "238\n",
      "239\n",
      "240\n",
      "241\n",
      "242\n",
      "243\n",
      "244\n",
      "245\n",
      "246\n",
      "247\n",
      "248\n",
      "249\n",
      "250\n",
      "251\n",
      "252\n",
      "253\n",
      "254\n",
      "255\n",
      "256\n",
      "257\n",
      "258\n",
      "259\n",
      "260\n",
      "261\n",
      "262\n",
      "263\n",
      "264\n",
      "265\n",
      "266\n",
      "267\n",
      "268\n",
      "269\n",
      "270\n",
      "271\n",
      "272\n",
      "273\n",
      "274\n",
      "275\n",
      "276\n",
      "277\n",
      "278\n",
      "279\n",
      "280\n",
      "281\n",
      "282\n",
      "283\n",
      "284\n",
      "285\n",
      "286\n",
      "287\n",
      "288\n",
      "289\n",
      "290\n",
      "291\n",
      "292\n",
      "293\n",
      "294\n",
      "295\n",
      "296\n",
      "297\n",
      "298\n",
      "299\n",
      "300\n",
      "301\n",
      "302\n",
      "303\n",
      "304\n",
      "305\n",
      "306\n",
      "307\n",
      "308\n",
      "309\n",
      "310\n",
      "311\n",
      "312\n",
      "313\n",
      "314\n",
      "315\n",
      "316\n",
      "317\n",
      "318\n",
      "319\n",
      "320\n",
      "321\n",
      "322\n",
      "323\n",
      "324\n",
      "325\n",
      "326\n",
      "327\n",
      "328\n",
      "329\n",
      "330\n",
      "331\n",
      "332\n",
      "333\n",
      "334\n",
      "335\n",
      "336\n",
      "337\n",
      "338\n",
      "339\n",
      "340\n",
      "341\n",
      "342\n",
      "343\n",
      "344\n",
      "345\n",
      "346\n",
      "347\n",
      "348\n",
      "349\n",
      "350\n",
      "351\n",
      "352\n",
      "353\n",
      "354\n",
      "355\n",
      "356\n"
     ]
    },
    {
     "ename": "GeocoderServiceError",
     "evalue": "<urlopen error [Errno 65] No route to host>",
     "output_type": "error",
     "traceback": [
      "\u001b[0;31m---------------------------------------------------------------------------\u001b[0m",
      "\u001b[0;31mGeocoderServiceError\u001b[0m                      Traceback (most recent call last)",
      "\u001b[0;32m<ipython-input-164-38ec32143ab9>\u001b[0m in \u001b[0;36m<module>\u001b[0;34m()\u001b[0m\n\u001b[1;32m      2\u001b[0m \u001b[0;32mfor\u001b[0m \u001b[0mk\u001b[0m \u001b[0;32min\u001b[0m \u001b[0mrange\u001b[0m\u001b[0;34m(\u001b[0m\u001b[0mj\u001b[0m\u001b[0;34m,\u001b[0m\u001b[0mlen\u001b[0m\u001b[0;34m(\u001b[0m\u001b[0mwork_data\u001b[0m\u001b[0;34m)\u001b[0m\u001b[0;34m)\u001b[0m\u001b[0;34m:\u001b[0m\u001b[0;34m\u001b[0m\u001b[0m\n\u001b[1;32m      3\u001b[0m \u001b[0;34m\u001b[0m\u001b[0m\n\u001b[0;32m----> 4\u001b[0;31m     \u001b[0mreverse_pick\u001b[0m \u001b[0;34m=\u001b[0m \u001b[0mgeolocator\u001b[0m\u001b[0;34m.\u001b[0m\u001b[0mreverse\u001b[0m\u001b[0;34m(\u001b[0m\u001b[0mpickup__temp_location\u001b[0m\u001b[0;34m[\u001b[0m\u001b[0mk\u001b[0m\u001b[0;34m]\u001b[0m\u001b[0;34m)\u001b[0m\u001b[0;34m\u001b[0m\u001b[0m\n\u001b[0m\u001b[1;32m      5\u001b[0m     \u001b[0mpick_locations\u001b[0m\u001b[0;34m.\u001b[0m\u001b[0mappend\u001b[0m\u001b[0;34m(\u001b[0m\u001b[0mreverse_pick\u001b[0m\u001b[0;34m)\u001b[0m\u001b[0;34m\u001b[0m\u001b[0m\n\u001b[1;32m      6\u001b[0m     \u001b[0mtime\u001b[0m\u001b[0;34m.\u001b[0m\u001b[0msleep\u001b[0m\u001b[0;34m(\u001b[0m\u001b[0;36m10\u001b[0m\u001b[0;34m)\u001b[0m\u001b[0;34m\u001b[0m\u001b[0m\n",
      "\u001b[0;32m/Library/Frameworks/Python.framework/Versions/2.7/lib/python2.7/site-packages/geopy/geocoders/osm.pyc\u001b[0m in \u001b[0;36mreverse\u001b[0;34m(self, query, exactly_one, timeout, language)\u001b[0m\n\u001b[1;32m    246\u001b[0m         \u001b[0mlogger\u001b[0m\u001b[0;34m.\u001b[0m\u001b[0mdebug\u001b[0m\u001b[0;34m(\u001b[0m\u001b[0;34m\"%s.reverse: %s\"\u001b[0m\u001b[0;34m,\u001b[0m \u001b[0mself\u001b[0m\u001b[0;34m.\u001b[0m\u001b[0m__class__\u001b[0m\u001b[0;34m.\u001b[0m\u001b[0m__name__\u001b[0m\u001b[0;34m,\u001b[0m \u001b[0murl\u001b[0m\u001b[0;34m)\u001b[0m\u001b[0;34m\u001b[0m\u001b[0m\n\u001b[1;32m    247\u001b[0m         return self._parse_json(\n\u001b[0;32m--> 248\u001b[0;31m             \u001b[0mself\u001b[0m\u001b[0;34m.\u001b[0m\u001b[0m_call_geocoder\u001b[0m\u001b[0;34m(\u001b[0m\u001b[0murl\u001b[0m\u001b[0;34m,\u001b[0m \u001b[0mtimeout\u001b[0m\u001b[0;34m=\u001b[0m\u001b[0mtimeout\u001b[0m\u001b[0;34m)\u001b[0m\u001b[0;34m,\u001b[0m \u001b[0mexactly_one\u001b[0m\u001b[0;34m\u001b[0m\u001b[0m\n\u001b[0m\u001b[1;32m    249\u001b[0m         )\n\u001b[1;32m    250\u001b[0m \u001b[0;34m\u001b[0m\u001b[0m\n",
      "\u001b[0;32m/Library/Frameworks/Python.framework/Versions/2.7/lib/python2.7/site-packages/geopy/geocoders/base.pyc\u001b[0m in \u001b[0;36m_call_geocoder\u001b[0;34m(self, url, timeout, raw, requester, deserializer, **kwargs)\u001b[0m\n\u001b[1;32m    169\u001b[0m                 \u001b[0;32mif\u001b[0m \u001b[0;34m\"timed out\"\u001b[0m \u001b[0;32min\u001b[0m \u001b[0mmessage\u001b[0m\u001b[0;34m:\u001b[0m\u001b[0;34m\u001b[0m\u001b[0m\n\u001b[1;32m    170\u001b[0m                     \u001b[0;32mraise\u001b[0m \u001b[0mGeocoderTimedOut\u001b[0m\u001b[0;34m(\u001b[0m\u001b[0;34m'Service timed out'\u001b[0m\u001b[0;34m)\u001b[0m\u001b[0;34m\u001b[0m\u001b[0m\n\u001b[0;32m--> 171\u001b[0;31m             \u001b[0;32mraise\u001b[0m \u001b[0mGeocoderServiceError\u001b[0m\u001b[0;34m(\u001b[0m\u001b[0mmessage\u001b[0m\u001b[0;34m)\u001b[0m\u001b[0;34m\u001b[0m\u001b[0m\n\u001b[0m\u001b[1;32m    172\u001b[0m \u001b[0;34m\u001b[0m\u001b[0m\n\u001b[1;32m    173\u001b[0m         \u001b[0;32mif\u001b[0m \u001b[0mhasattr\u001b[0m\u001b[0;34m(\u001b[0m\u001b[0mpage\u001b[0m\u001b[0;34m,\u001b[0m \u001b[0;34m'getcode'\u001b[0m\u001b[0;34m)\u001b[0m\u001b[0;34m:\u001b[0m\u001b[0;34m\u001b[0m\u001b[0m\n",
      "\u001b[0;31mGeocoderServiceError\u001b[0m: <urlopen error [Errno 65] No route to host>"
     ]
    }
   ],
   "source": [
    "\"\"\"\n",
    "for k in range(0,len(work_data)):\n",
    "    \n",
    "    reverse_pick = geolocator.reverse(pickup__temp_location[k])\n",
    "    pick_locations.append(reverse_pick)\n",
    "    time.sleep(1)\n",
    "    reverse_drop = geolocator.reverse(dropoff__temp_location[k]) \n",
    "    drop_locations.append(reverse_drop)\n",
    "    time.sleep(1)\n",
    "    print k\n",
    "\"\"\"  \n"
   ]
  },
  {
   "cell_type": "code",
   "execution_count": null,
   "metadata": {
    "collapsed": false
   },
   "outputs": [],
   "source": [
    "work_data['pick_zone'] = pick_geocode[:].postal_code\n",
    "work_data['drop_zone'] = drop_geocode[:].postal_code"
   ]
  },
  {
   "cell_type": "markdown",
   "metadata": {
    "collapsed": false
   },
   "source": [
    "We drop some irrelevant information."
   ]
  },
  {
   "cell_type": "code",
   "execution_count": 37,
   "metadata": {
    "collapsed": false
   },
   "outputs": [],
   "source": [
    "work_data = work_data.drop(['tpep_pickup_datetime','tpep_dropoff_datetime','mta_tax','tolls_amount', 'improvement_surcharge' ], axis=1)"
   ]
  },
  {
   "cell_type": "markdown",
   "metadata": {},
   "source": [
    "# 2.1.4 Features Selected\n",
    "\n",
    "The features selected to train the model are:\n",
    "\n",
    "    1) passenger_count\n",
    "    2) trip_distance\n",
    "    3) pickup_longitude\n",
    "    4) pickup_latitude\n",
    "    5) dropoff_longitude\n",
    "    6) dropoff_latitude\n",
    "    7) RateCodeID\n",
    "    8) trip_time\n",
    "    9) day_ofweek\n",
    "    10) hour\n",
    "    11) fare_amount\n",
    "    12) extra\n",
    "    13) tip-total-proportion"
   ]
  },
  {
   "cell_type": "code",
   "execution_count": 5,
   "metadata": {
    "collapsed": false
   },
   "outputs": [
    {
     "data": {
      "text/html": [
       "<div>\n",
       "<table border=\"1\" class=\"dataframe\">\n",
       "  <thead>\n",
       "    <tr style=\"text-align: right;\">\n",
       "      <th></th>\n",
       "      <th>passenger_count</th>\n",
       "      <th>trip_distance</th>\n",
       "      <th>pickup_longitude</th>\n",
       "      <th>pickup_latitude</th>\n",
       "      <th>RateCodeID</th>\n",
       "      <th>dropoff_longitude</th>\n",
       "      <th>dropoff_latitude</th>\n",
       "      <th>payment_type</th>\n",
       "      <th>fare_amount</th>\n",
       "      <th>extra</th>\n",
       "      <th>...</th>\n",
       "      <th>hour</th>\n",
       "      <th>dif_tip_total</th>\n",
       "      <th>dif_tip_fare</th>\n",
       "      <th>hour_label</th>\n",
       "      <th>trip_distance_label</th>\n",
       "      <th>fare_amount_label</th>\n",
       "      <th>total_amount_label</th>\n",
       "      <th>trip_time_label</th>\n",
       "      <th>tip_label_total</th>\n",
       "      <th>tip_label_fare</th>\n",
       "    </tr>\n",
       "  </thead>\n",
       "  <tbody>\n",
       "    <tr>\n",
       "      <th>0</th>\n",
       "      <td>1</td>\n",
       "      <td>1.4</td>\n",
       "      <td>-73.971565</td>\n",
       "      <td>40.757366</td>\n",
       "      <td>1</td>\n",
       "      <td>-73.976173</td>\n",
       "      <td>40.741543</td>\n",
       "      <td>1</td>\n",
       "      <td>6.5</td>\n",
       "      <td>0.5</td>\n",
       "      <td>...</td>\n",
       "      <td>20</td>\n",
       "      <td>0.204082</td>\n",
       "      <td>0.307692</td>\n",
       "      <td>5</td>\n",
       "      <td>2</td>\n",
       "      <td>2</td>\n",
       "      <td>1</td>\n",
       "      <td>6</td>\n",
       "      <td>5</td>\n",
       "      <td>6</td>\n",
       "    </tr>\n",
       "  </tbody>\n",
       "</table>\n",
       "<p>1 rows × 24 columns</p>\n",
       "</div>"
      ],
      "text/plain": [
       "   passenger_count  trip_distance  pickup_longitude  pickup_latitude  \\\n",
       "0                1            1.4        -73.971565        40.757366   \n",
       "\n",
       "   RateCodeID  dropoff_longitude  dropoff_latitude  payment_type  fare_amount  \\\n",
       "0           1         -73.976173         40.741543             1          6.5   \n",
       "\n",
       "   extra       ...        hour  dif_tip_total  dif_tip_fare  hour_label  \\\n",
       "0    0.5       ...          20       0.204082      0.307692           5   \n",
       "\n",
       "   trip_distance_label  fare_amount_label  total_amount_label  \\\n",
       "0                    2                  2                   1   \n",
       "\n",
       "   trip_time_label  tip_label_total  tip_label_fare  \n",
       "0                6                5               6  \n",
       "\n",
       "[1 rows x 24 columns]"
      ]
     },
     "execution_count": 5,
     "metadata": {},
     "output_type": "execute_result"
    }
   ],
   "source": [
    "new_data = dataset\n",
    "new_data.head(n=1)"
   ]
  },
  {
   "cell_type": "markdown",
   "metadata": {},
   "source": []
  },
  {
   "cell_type": "markdown",
   "metadata": {},
   "source": [
    "# Hour Labels\n",
    "\n",
    "We categorise the hour form which each trip was taken into 6 clases:\n",
    "\n",
    "    1) 0-7 hours\n",
    "    2) 7-10 hours\n",
    "    3) 10-14 hours\n",
    "    4) 14-18 hours\n",
    "    5) 18-21 hours\n",
    "    6) 21-24 hours\n",
    "    \n",
    "The distribution seems to be well distributed."
   ]
  },
  {
   "cell_type": "code",
   "execution_count": 40,
   "metadata": {
    "collapsed": false
   },
   "outputs": [],
   "source": [
    "#hour_labels = [1:Early-morning (0-7), 2:Morning (7-10), 3:Mid-day (10-14), 4:Afternoon (14-18), 5:Evening (18-21), 6:Night (21-24)]\n",
    "hour_labels = range(1,7)\n",
    "hour_range_by_label = [[0, 7],\n",
    "                       [7, 10],\n",
    "                       [10, 14],\n",
    "                       [14, 18], \n",
    "                       [18, 21],\n",
    "                       [21, 24]]"
   ]
  },
  {
   "cell_type": "code",
   "execution_count": 41,
   "metadata": {
    "collapsed": false
   },
   "outputs": [],
   "source": [
    "hours_label_list = []\n",
    "hours = np.array(new_data.hour.values).tolist()\n",
    "\n",
    "for hour_trip in hours:\n",
    "    for i, hour_label in enumerate(hour_labels):\n",
    "        hour_mask = ((hour_trip >= hour_range_by_label[i][0]) & (hour_trip < hour_range_by_label[i][1]))\n",
    "        if hour_mask is True:\n",
    "            hours_label_list.append(hour_labels[i])\n",
    "            hour_mask = None\n",
    "new_data['hour_label'] = hours_label_list"
   ]
  },
  {
   "cell_type": "code",
   "execution_count": 42,
   "metadata": {
    "collapsed": false
   },
   "outputs": [
    {
     "data": {
      "text/plain": [
       "<matplotlib.axes._subplots.AxesSubplot at 0x2825f18d0>"
      ]
     },
     "execution_count": 42,
     "metadata": {},
     "output_type": "execute_result"
    },
    {
     "data": {
      "image/png": "[encoded data removed]",
      "text/plain": [
       "<matplotlib.figure.Figure at 0x2825f1ed0>"
      ]
     },
     "metadata": {
      "image/png": {
       "height": 348,
       "width": 506
      }
     },
     "output_type": "display_data"
    }
   ],
   "source": [
    "new_data.groupby(new_data['hour_label']).size().plot(kind='bar')\n"
   ]
  },
  {
   "cell_type": "markdown",
   "metadata": {},
   "source": [
    "# Trip distance labels\n",
    "\n",
    "6 classes comprises the distance of each trip:\n",
    "\n",
    "    1) 0-1 mile\n",
    "    2) 1-1.5 miles\n",
    "    3) 1.5-2 miles\n",
    "    4) 2-3 miles\n",
    "    5) 3-6 miles\n",
    "    6) more than 6 miles"
   ]
  },
  {
   "cell_type": "code",
   "execution_count": 43,
   "metadata": {
    "collapsed": true
   },
   "outputs": [],
   "source": [
    "#dist_labels = [1: 0-1 , 2: 1-1.5 , 3: 1.5-2 , 4: 2-3 , 5: 3-6, 6: 6+]\n",
    "dist_labels = range(1,7)\n",
    "dist_range_by_label = [[0, 1.0],\n",
    "                       [1.0,1.5],\n",
    "                       [1.5, 2.0], \n",
    "                       [2.0,3.0], \n",
    "                       [3.0,6.0],\n",
    "                       [6.0,100.0]]"
   ]
  },
  {
   "cell_type": "code",
   "execution_count": 44,
   "metadata": {
    "collapsed": true
   },
   "outputs": [],
   "source": [
    "dist_label_list = []\n",
    "dists = np.array(new_data.trip_distance.values).tolist()\n",
    "\n",
    "for dist in dists:\n",
    "    for i, dist_label in enumerate(dist_labels):\n",
    "        dist_mask = ((dist >= dist_range_by_label[i][0]) & (dist < dist_range_by_label[i][1]))\n",
    "        if dist_mask is True:\n",
    "            dist_label_list.append(dist_labels[i])\n",
    "            dist_mask = None\n",
    "new_data['trip_distance_label'] = dist_label_list"
   ]
  },
  {
   "cell_type": "code",
   "execution_count": 79,
   "metadata": {
    "collapsed": false
   },
   "outputs": [
    {
     "data": {
      "text/plain": [
       "<matplotlib.axes._subplots.AxesSubplot at 0x10b07c650>"
      ]
     },
     "execution_count": 79,
     "metadata": {},
     "output_type": "execute_result"
    },
    {
     "data": {
      "image/png": "[encoded data removed]",
      "text/plain": [
       "<matplotlib.figure.Figure at 0x1dd001d10>"
      ]
     },
     "metadata": {
      "image/png": {
       "height": 348,
       "width": 506
      }
     },
     "output_type": "display_data"
    }
   ],
   "source": [
    "new_data.groupby(new_data['trip_distance_label']).size().plot(kind='bar')"
   ]
  },
  {
   "cell_type": "markdown",
   "metadata": {},
   "source": [
    "# Fare Amount Labels\n",
    "\n",
    "Fare amount is categorised into 5 classes:\n",
    "\n",
    "    1) $0- $6.5\n",
    "    2) $6.5- $10\n",
    "    3) $10- $15\n",
    "    4) $15- $20\n",
    "    5) more than $20"
   ]
  },
  {
   "cell_type": "code",
   "execution_count": 46,
   "metadata": {
    "collapsed": true
   },
   "outputs": [],
   "source": [
    "#fare_labels = [1: 0-6.5, 2: 6.5-10 , 3: 10-15 , 4: 15-20 , 5: 20+]\n",
    "fare_labels = range(1,6)\n",
    "fare_range_by_label = [[0, 6.5], \n",
    "                       [6.5, 10.0],\n",
    "                       [10.0, 15.0],\n",
    "                       [15.0, 20.0],\n",
    "                       [20.0,100]]"
   ]
  },
  {
   "cell_type": "code",
   "execution_count": 48,
   "metadata": {
    "collapsed": false
   },
   "outputs": [],
   "source": [
    "fare_label_list = []\n",
    "fares = np.array(new_data.fare_amount.values).tolist()\n",
    "\n",
    "for fare in fares:\n",
    "    for i, fare_label in enumerate(fare_labels):\n",
    "        fare_mask = ((fare >= fare_range_by_label[i][0]) & (fare < fare_range_by_label[i][1]))\n",
    "        if fare_mask is True:\n",
    "            fare_label_list.append(fare_labels[i])\n",
    "            fare_mask = None\n",
    "new_data = new_data.loc[(new_data.fare_amount > 0 ) & (new_data.fare_amount < 100)] \n",
    "new_data['fare_amount_label'] = fare_label_list"
   ]
  },
  {
   "cell_type": "code",
   "execution_count": 49,
   "metadata": {
    "collapsed": false
   },
   "outputs": [
    {
     "data": {
      "text/plain": [
       "<matplotlib.axes._subplots.AxesSubplot at 0x24fb91c90>"
      ]
     },
     "execution_count": 49,
     "metadata": {},
     "output_type": "execute_result"
    },
    {
     "data": {
      "image/png": "[encoded data removed]",
      "text/plain": [
       "<matplotlib.figure.Figure at 0x24fb91710>"
      ]
     },
     "metadata": {
      "image/png": {
       "height": 348,
       "width": 506
      }
     },
     "output_type": "display_data"
    }
   ],
   "source": [
    "new_data.groupby(new_data['fare_amount_label']).size().plot(kind='bar')"
   ]
  },
  {
   "cell_type": "markdown",
   "metadata": {
    "collapsed": true
   },
   "source": [
    "# Total Amount Labels\n",
    "\n",
    "Fare amount is comprises the following classes:\n",
    "\n",
    "    1) $0- $10\n",
    "    2) $10- $15\n",
    "    3) $15- $20\n",
    "    4) $20- $25\n",
    "    5) $25- $35\n",
    "    6) more than $35"
   ]
  },
  {
   "cell_type": "code",
   "execution_count": 50,
   "metadata": {
    "collapsed": true
   },
   "outputs": [],
   "source": [
    "#total_labels = [1: 0-10 , 2: 10-15, 3: 15-20, 4: 20-25, 5: 25-35, 6: 35+]\n",
    "total_labels = range(1,7)\n",
    "total_range_by_label = [[0, 10.0], \n",
    "                       [10.0, 15.0], \n",
    "                       [15.0, 20.0], \n",
    "                       [20.0, 25.0],\n",
    "                       [25.0, 35.0],\n",
    "                       [35.0, 100]]"
   ]
  },
  {
   "cell_type": "code",
   "execution_count": 51,
   "metadata": {
    "collapsed": true
   },
   "outputs": [],
   "source": [
    "total_label_list = []\n",
    "totals = np.array(new_data.total_amount.values).tolist()\n",
    "\n",
    "for total in totals:\n",
    "    for i, total_label in enumerate(total_labels):\n",
    "        total_mask = ((total >= total_range_by_label[i][0]) & (total < total_range_by_label[i][1]))\n",
    "        if total_mask is True:\n",
    "            total_label_list.append(total_labels[i])\n",
    "            total_mask = None\n",
    "new_data = new_data.loc[(new_data.total_amount > 0 ) & (new_data.total_amount < 100)] \n",
    "new_data['total_amount_label'] = total_label_list"
   ]
  },
  {
   "cell_type": "code",
   "execution_count": 52,
   "metadata": {
    "collapsed": false
   },
   "outputs": [
    {
     "data": {
      "text/plain": [
       "<matplotlib.axes._subplots.AxesSubplot at 0x103ca84d0>"
      ]
     },
     "execution_count": 52,
     "metadata": {},
     "output_type": "execute_result"
    },
    {
     "data": {
      "image/png": "[encoded data removed]",
      "text/plain": [
       "<matplotlib.figure.Figure at 0x2baab9290>"
      ]
     },
     "metadata": {
      "image/png": {
       "height": 348,
       "width": 506
      }
     },
     "output_type": "display_data"
    }
   ],
   "source": [
    "new_data.groupby(new_data['total_amount_label']).size().plot(kind='bar')"
   ]
  },
  {
   "cell_type": "markdown",
   "metadata": {},
   "source": [
    "# Trip duration Label\n",
    "\n",
    "Trip duration is categorised in 7 classes:\n",
    "\n",
    "    1) 0-5 minutes\n",
    "    2) 5-7 minutes\n",
    "    3) 7-10 minutes\n",
    "    4) 10-13 minutes\n",
    "    5) 13-18 minutes\n",
    "    6) 18-25 minutes\n",
    "    7) more than 25 minutes"
   ]
  },
  {
   "cell_type": "code",
   "execution_count": 55,
   "metadata": {
    "collapsed": false
   },
   "outputs": [],
   "source": [
    "#duration_labels = [1: 0-5 , 2: 5-7, 3: 7-10, 4: 10-13, 5: 13-18, 6: 18-25, 7:25+]\n",
    "duration_labels = range(1,8)\n",
    "duration_range_by_label = [[0, 5.0], \n",
    "                           [5.0, 7.0], \n",
    "                           [7.0, 10.0], \n",
    "                           [10.0, 13.0],\n",
    "                           [13.0, 18.0],\n",
    "                           [18.0, 25.0],\n",
    "                           [25.0, 70.0]]"
   ]
  },
  {
   "cell_type": "code",
   "execution_count": 56,
   "metadata": {
    "collapsed": false
   },
   "outputs": [],
   "source": [
    "duration_label_list = []\n",
    "durations = np.array(new_data.trip_time.values).tolist()\n",
    "\n",
    "for duration in durations:\n",
    "    for i, duration_label in enumerate(duration_labels):\n",
    "        duration_mask = ((duration >= duration_range_by_label[i][0]) & (duration < duration_range_by_label[i][1]))\n",
    "        if duration_mask is True:\n",
    "            duration_label_list.append(duration_labels[i])\n",
    "            duration_mask = None\n",
    "new_data = new_data.loc[(new_data.trip_time >= 0 ) & (new_data.trip_time < 70)] \n",
    "new_data['trip_time_label'] = duration_label_list"
   ]
  },
  {
   "cell_type": "code",
   "execution_count": 80,
   "metadata": {
    "collapsed": false
   },
   "outputs": [
    {
     "data": {
      "text/plain": [
       "<matplotlib.axes._subplots.AxesSubplot at 0x1ddceb090>"
      ]
     },
     "execution_count": 80,
     "metadata": {},
     "output_type": "execute_result"
    },
    {
     "data": {
      "image/png": "[encoded data removed]",
      "text/plain": [
       "<matplotlib.figure.Figure at 0x10b3357d0>"
      ]
     },
     "metadata": {
      "image/png": {
       "height": 348,
       "width": 506
      }
     },
     "output_type": "display_data"
    }
   ],
   "source": [
    "new_data.groupby(new_data['trip_time_label']).size().plot(kind='bar')"
   ]
  },
  {
   "cell_type": "markdown",
   "metadata": {},
   "source": [
    "# Tip-total proportion feature\n",
    "\n",
    "The proportion of tip amount vs the total amount considers 5 classes:\n",
    "\n",
    "    1) 0-16.6%\n",
    "    2) 16.6%-16.7%\n",
    "    3) 16.7%-20%\n",
    "    4) 20%-22%\n",
    "    5) more than 22%"
   ]
  },
  {
   "cell_type": "code",
   "execution_count": 231,
   "metadata": {
    "collapsed": false
   },
   "outputs": [],
   "source": [
    "#tip_labels = ['1: 0-16.6%', '2: 16.6%-16.7%', '3: 16.7%-20%', '4: 20%-22%', '5:+22%']\n",
    "tip_labels = range(1, 6)\n",
    "\n",
    "\n",
    "tip_ranges_by_label = [[0, 0.166],\n",
    "                       [0.166, 0.167], \n",
    "                       [0.167, 0.20], \n",
    "                       [0.20, 0.22],\n",
    "                       [0.22,0.70]]\n"
   ]
  },
  {
   "cell_type": "code",
   "execution_count": 232,
   "metadata": {
    "collapsed": false
   },
   "outputs": [],
   "source": [
    "tips_label_list = []\n",
    "tips = np.array(new_data.dif_tip_total.values).tolist()\n",
    "\n",
    "for tip in tips:\n",
    "    for i, tip_label in enumerate(tip_labels):\n",
    "        tip_mask = ((tip >= tip_ranges_by_label[i][0]) & (tip < tip_ranges_by_label[i][1]))\n",
    "        if tip_mask is True:\n",
    "            tips_label_list.append(tip_labels[i])\n",
    "            tip_mask = None\n",
    "new_data = new_data.loc[(new_data.dif_tip_total > 0 ) & (new_data.dif_tip_total < 0.7)]            \n",
    "new_data['tip_label_total'] = tips_label_list"
   ]
  },
  {
   "cell_type": "code",
   "execution_count": 233,
   "metadata": {
    "collapsed": false
   },
   "outputs": [
    {
     "data": {
      "text/plain": [
       "<matplotlib.axes._subplots.AxesSubplot at 0x1664c1dd0>"
      ]
     },
     "execution_count": 233,
     "metadata": {},
     "output_type": "execute_result"
    },
    {
     "data": {
      "image/png": "[encoded data removed]",
      "text/plain": [
       "<matplotlib.figure.Figure at 0x166fa3ed0>"
      ]
     },
     "metadata": {
      "image/png": {
       "height": 348,
       "width": 506
      }
     },
     "output_type": "display_data"
    }
   ],
   "source": [
    "new_data.groupby('tip_label_total').size().plot(kind='bar')\n",
    "\n",
    "#plt.title('Tip Label Distribution', fontsize=12)\n",
    "#plt.ylabel('Number of trips')\n",
    "#plt.tick_params(labelsize=12)"
   ]
  },
  {
   "cell_type": "markdown",
   "metadata": {},
   "source": [
    "# Tip-fare proportion - Output of the classifier\n",
    "\n",
    "\n",
    "As tip amount is the main interest of our analysis we focus the solution of our problem to predict the range of tip amount proportion with regards to the fare amount. We set 6 classes for this output:\n",
    "\n",
    "\n",
    "\n",
    "    1) 0-10%\n",
    "    2) 10%-20%\n",
    "    3) 20%-22%\n",
    "    4) 22%-24%\n",
    "    5) 24%-30%\n",
    "    6) more than 30%"
   ]
  },
  {
   "cell_type": "code",
   "execution_count": 26,
   "metadata": {
    "collapsed": false
   },
   "outputs": [],
   "source": [
    "#tip_labels = ['1: 0-10%', '2: 10%-20%', '3: 20%-22%', '4: 22%-24%', '5:24%-30%', '6: +30%']\n",
    "tip_labels = range(1, 7)\n",
    "\n",
    "tip_ranges_by_label = [[0, 0.1],\n",
    "                       [0.1, 0.20],\n",
    "                       [0.20,0.22],\n",
    "                       [0.22,0.24],\n",
    "                       [0.24,0.3],\n",
    "                       [0.3,0.7]]"
   ]
  },
  {
   "cell_type": "code",
   "execution_count": 27,
   "metadata": {
    "collapsed": false
   },
   "outputs": [],
   "source": [
    "tips_fare_label_list = []\n",
    "tips_fare = np.array(new_data.dif_tip_fare.values).tolist()\n",
    "\n",
    "for tip in tips_fare:\n",
    "    for i, tip_label in enumerate(tip_labels):\n",
    "        tip_fare_mask = ((tip >= tip_ranges_by_label[i][0]) & (tip < tip_ranges_by_label[i][1]))\n",
    "        if tip_fare_mask is True:\n",
    "            tips_fare_label_list.append(tip_labels[i])\n",
    "            tip_mask = None\n",
    "new_data = new_data.loc[(new_data.dif_tip_fare > 0 ) & (new_data.dif_tip_fare < 0.7)]            \n",
    "new_data['tip_label_fare'] = tips_fare_label_list"
   ]
  },
  {
   "cell_type": "code",
   "execution_count": 83,
   "metadata": {
    "collapsed": false
   },
   "outputs": [
    {
     "data": {
      "text/plain": [
       "<matplotlib.axes._subplots.AxesSubplot at 0x1df829c90>"
      ]
     },
     "execution_count": 83,
     "metadata": {},
     "output_type": "execute_result"
    },
    {
     "data": {
      "image/png": "[encoded data removed]",
      "text/plain": [
       "<matplotlib.figure.Figure at 0x1dd0993d0>"
      ]
     },
     "metadata": {
      "image/png": {
       "height": 348,
       "width": 506
      }
     },
     "output_type": "display_data"
    }
   ],
   "source": [
    "new_data.groupby('tip_label_fare').size().plot(kind='bar')"
   ]
  },
  {
   "cell_type": "code",
   "execution_count": 74,
   "metadata": {
    "collapsed": false
   },
   "outputs": [],
   "source": [
    "new_data.to_csv('labeled_data_yellow_tripdata_2015-06.csv', index=False)\n"
   ]
  },
  {
   "cell_type": "code",
   "execution_count": null,
   "metadata": {
    "collapsed": false
   },
   "outputs": [],
   "source": []
  },
  {
   "cell_type": "code",
   "execution_count": null,
   "metadata": {
    "collapsed": false
   },
   "outputs": [],
   "source": []
  },
  {
   "cell_type": "code",
   "execution_count": null,
   "metadata": {
    "collapsed": true
   },
   "outputs": [],
   "source": []
  }
 ],
 "metadata": {
  "kernelspec": {
   "display_name": "Python 2",
   "language": "python",
   "name": "python2"
  },
  "language_info": {
   "codemirror_mode": {
    "name": "ipython",
    "version": 2
   },
   "file_extension": ".py",
   "mimetype": "text/x-python",
   "name": "python",
   "nbconvert_exporter": "python",
   "pygments_lexer": "ipython2",
   "version": "2.7.9"
  }
 },
 "nbformat": 4,
 "nbformat_minor": 0
}
